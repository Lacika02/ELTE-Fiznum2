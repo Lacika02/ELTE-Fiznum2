{
 "cells": [
  {
   "cell_type": "markdown",
   "metadata": {},
   "source": [
    "# 1. FELADAT\n",
    "\n",
    "A feladatsort Python nyelven kell megoldani a jupyter notebookban. A programok legyenek modulárisak, használjanak függvényeket! Az ábrák legyenek áttekinthetőek, és szerepeljen rajtuk tengelyfelirat!\n",
    "\n",
    "Az előre megadott cellákon ne változtassunk!\n",
    "\n",
    "Segítségül itt összefoglaljuk a kapcsolódó elméletet."
   ]
  },
  {
   "cell_type": "markdown",
   "metadata": {},
   "source": [
    "# Függvényillesztés a lineáris $\\chi^2$ módszerrel\n",
    "\n",
    "\n",
    "A lineáris $\\chi^2$-illesztés módszere olyan modellek paramétereinek meghatározására alkalmas, ahol az illesztendő függvény felírható tetszőleges függvények lineárkombinációjaként, feltéve, hogy az illesztési paraméterek csak a lineárkombináció együtthatóinak szerepét töltik be, vagyis\n",
    "\n",
    "$$ y(\\mathbf{a}, \\mathbf{x}) = \\sum_k a_k f_k(\\mathbf{x}), $$\n",
    "\n",
    "ahol $\\mathbf{a}$ a keresett paraméterekből alkotott vektor vektor, $\\mathbf{x}$ pedig a független változó. További feltétel, hogy az $f_k(\\mathbf{x})$ többváltozós függvények az összes $\\textbf{x}$ mérési pontban kiértékelhetők legyenek. Amennyiben a mérési hiba gauss-i, úgy az $y_i$ mért értékek hibáját egy $\\sigma_i$ értékkel jellemezhetjük, ahol az $i$ index a mérési pontokon fut. A függvényillesztés jóságát a\n",
    "\n",
    "$$\n",
    "\\chi^2(\\mathbf{a})\n",
    "    = \\sum_i \\frac{\\left[ y(\\mathbf{a}, \\mathbf{x}_i) - y_i \\right]^2}{\\sigma_i^2}\n",
    "    = \\sum_i \\frac{\\left[ \\sum_k a_k f_k(\\mathbf{x}_i) - y_i \\right]^2}{\\sigma_i^2}\n",
    "$$\n",
    "\n",
    "mennyiséggel jellemezhetjük, mely Gauss-eloszlású hiba esetében egzaktul következik a _maximum likelihood_ módszerből. A legjobban illeszkedő modellre a $\\chi^2$ kifejezésének értéke minimális, azaz azokat az $a_k$ paramétereket keressük, melyek mellett $\\chi^2$ parciális deriváltjai eltűnnek:\n",
    "\n",
    "$$\n",
    "\\frac{\\partial\\chi^2(\\mathbf{a})}{\\partial a_k} = 0\n",
    "$$\n",
    "\n",
    "minden $a_k$-ra. A parciális deriváltakra így felírt egyenletrendszer általában nem lineáris, így a megoldására közvetlen gyökkereső módszerekkel nem sok esélyünk van. Amennyiben azonban az $y(\\mathbf{a}, \\mathbf{x})$ modellt a fent bevezett lineárkombináció alakjában adjuk meg, úgy könnyen belátható, hogy a deriváltak nullává tétele a kövezkező egyenletrendszerre vezet:\n",
    "\n",
    "$$\n",
    "\\frac{\\partial\\chi^2(\\mathbf{a})}{\\partial a_k} =\n",
    "    2 \\cdot \\sum_i \\left[ \\frac{1}{\\sigma_i^2} \\cdot \n",
    "        \\left( \n",
    "            \\sum_j a_j f_j(\\mathbf{x}_i) - y_i\n",
    "        \\right) \\cdot f_k(\\mathbf{x}_i) \\right] = 0.\n",
    "$$\n",
    "\n",
    "Ez már lineáris egyenletrendszer az $a_k$ együtthatókra, hiszen az $y_i$ mért értékek és az $f_k(\\mathbf{x}_i)$ bázisfüggvények az $\\mathbf{x}_i$ mérési pontokban ismertek. Könnyű belátni, hogy némi átírás után bevezethető egy $X_{ik}$, ún. tervmátrix, és egy $b_i$ hibával redukált vektor:\n",
    "\n",
    "$$\n",
    "X_{ik} = \\frac{f_k(\\mathbf{x}_i)}{\\sigma_i} \\quad \\quad \\quad\n",
    "b_i = \\frac{y_i}{\\sigma_i}.\n",
    "$$\n",
    "\n",
    "A parciális deriváltak nullává tételével felírt egyenletrendszer ezekkel a jelölésekkel\n",
    "\n",
    "$$\n",
    "    \\sum_i \\left[ \\left( \\sum_j a_j X_{ij} - b_i \\right) X_{ik} \\right] = 0\n",
    "$$\n",
    "\n",
    "alakúnak adódik, mely átrendezés után \n",
    "\n",
    "$$\n",
    "\\sum_i \\sum_j X_{ij} X_{ik} a_j  = \\sum_i X_{ik} b_i,\n",
    "$$\n",
    "\n",
    "vagy mátrixos írásmóddal\n",
    "\n",
    "$$\n",
    "\\mathbf{X}^{T} \\mathbf{X} \\mathbf{a} = \\mathbf{X}^{T} \\mathbf{b}\n",
    "$$\n",
    "\n",
    "alakot ölt. Az egyenletet $\\mathbf{a}$-ra megoldva megkapjuk a $\\chi^2$-et minimalizáló paramétereket.\n",
    "\n",
    "## Az illeszkedés jósága: a redukált $\\chi^2$\n",
    "\n",
    "Mivel a $\\chi^2$-re felírt kifejezés függ a mérési pontok számától, ezért a $\\chi^2$ értéke nem használható arra, hogy két, különböző mérési sorozat esetében megállapítsuk, hogy ugyanaz a modell mennyire jól illeszkedik az egyik vagy másik adatsorra. Éppen ezért érdemes bevezetni a redukált $\\chi^2$ nevű mennyiséget:\n",
    "\n",
    "$$\n",
    "\\chi^2_\\nu = \\frac{\\chi^2}{\\nu},\n",
    "$$\n",
    "\n",
    "ahol $\\nu = N - M$ a szabadsági fokok száma, azaz a mérési adatpontok száma mínusz az illesztendő paraméterek száma. Jó illesztésről akkor beszélhetünk, ha $\\chi^2_\\nu \\lesssim 1$.\n",
    "\n",
    "## Az illesztett paraméterek aszimptotikus hibája\n",
    "\n",
    "A lineáris $\\chi^2$ módszerrel illesztett modellek paramétereinek hibáját úgy becsülthetjük meg, hogy tekintjük a $\\chi^2(\\mathbf{a})$ függvény második parciális deriváltjaiból alkotott mátrixot, hiszen a $\\chi^2$ kifejezésének Taylor-sorában az ennek megfelelő tag nem tűnik el minimum környezetében. Tekintve, hogy\n",
    "\n",
    "$$\n",
    "\\frac{1}{2}\\frac{\\partial^2 \\chi^2(\\mathbf{a})}{\\partial a_k \\partial a_l} =\n",
    "    \\sum_i X_{ik} X_{il} = \\sum_i \\frac{f_k(\\mathbf{x}_i) f_l(\\mathbf{x}_i)}{\\sigma_i^2} =\n",
    "    \\alpha_{kl},\n",
    "$$\n",
    "\n",
    "az így bevezett $\\mathbf{\\alpha} = \\mathbf{X}^{T} \\mathbf{X}$ szimmetrikus mátrixról belátható, hogy annak $\\mathbf{C} = \\mathbf{\\alpha}^{-1}$ inverze, az ún. kovarianciamátrix, jól jellemzi az illesztett paraméterek hibáját és kovarianciáját. Az $a_k$ paraméter hibája egyszerűen $\\sigma_{a_k}^2 = C_{kk}$, míg az $a_k$ és $a_l$ paraméterek kovarianciája a $ \\textrm{cov}(a_k, a_l) = C_{kl}$ mátrixelem. Az így kiszámított hibák ún. aszimptotikus hibák, hiszen csupán a $\\chi^2$ felület másodrendű közelítését veszik figyelembe a minimumhely környezetében.\n",
    "\n",
    "## Hibabecslés a jackknife és a bootstrap módszerrel\n",
    "\n",
    "Az illesztett paraméterek hibájának pontos megbecslését olyan Monte Carlo módszerrel végezhetnénk el, mely képes mintavételezni az illesztési paraméterek pontos $p(\\mathbf{a})$ együttes eloszlásfüggvényét.\n",
    "Tehát ha a teljes mérést tudjuk sokszor ismételni valóságban, vagy szimulációban, akkor meg tudjuk határozni a paraméterek eloszlását és hibáját.\n",
    "Általában erre nincs lehetőségunk, egyetlen mérés adatsorából kell dolgoznunk. Viszont tudunk mesterséges adatsorokat készíteni a mért adatsorunkból. Ezeken vizsgálva a paraméterek elsozlását következtethetünk a valódi mérés paramétereinek pontosságára.\n",
    "Két ilyen módszert fogunk kipróbálni:\n",
    "\n",
    "A jackknife módszer esetében egy-egy mérési pontot kihagyunk az eredeti adatsorból. $N$ pont esetén ezt $N$-féleképpen tehetjük meg, így ennyi mesterséges adatsort kapunk. Mindegyikre elvégezve az illesztést így kapunk becslést a paraméterekre és pontosságukra:\n",
    "$$ \\mathbf{a}_{\\rm jack} = \\frac{1}{N} \\sum_i \\mathbf{a}_{(i)}\\;,\\;\\;\\;\n",
    "\\sigma_{{\\rm jack},k}^2 = \\frac{N-1}{N} \\sum_i (a_{(i),k}-a_{{\\rm jack},k})^2\\;\\;,\\;\\;\n",
    "$$\n",
    "ahol $\\mathbf{a}_{(i)}$ az $i$-dik mesterséges adatsorra illesztve kapott paramétervektor és $a_{(i),k}$ ennek a k-ik \n",
    "komponense. \n",
    "\n",
    "Másik gyakran használt, egyszerű eljárás a [bootstrap](https://outdoors.stackexchange.com/questions/11709/whats-the-purpose-of-the-sling-on-the-heel-of-boots) módszer, ahol az adatokból visszatevéses véletlen mintavételezéssel új, az eredetivel azonos hosszúságú ${\\cal D}^{(S)}_1$ mesterséges adatsort hozunk létre. Az illesztést az új adatsorra is elvégezzük. Majd az eredeti adatsorból a mintavételezést és mindegyik kapott ${\\cal D}^{(S)}_i$ adatsorra az illesztést megismételjük.\n",
    "Kellően sokszor megismételve az eljárást a kapott $\\mathbf{a}^{(S)}_{(i)}$ illesztési paramétervektorok egy eloszlást adnak az eredeti adatsorra illesztett $\\mathbf{a}_{(0)}$ körül. És ez az eloszlás közel áll ahhoz, amit az eredeti mérés ismétlésével kapnánk az $\\mathbf{a}^{(R)}_{(i)}$ illesztett paraméterekre az ismeretlen valódi $\\mathbf{a}_{\\rm true}$ vektor körül, azaz\n",
    "$ \\mathbf{a}^{(S)}_{(i)} - \\mathbf{a}_{(0)} $   és   $ \\mathbf{a}^{(R)}_{(i)} - \\mathbf{a}_{\\rm true} $ eloszlása hasonló.\n",
    "Így $\\mathbf{a}^{(S)}_{(i)}$ szórása jól jellemzi az $\\mathbf{a}_{(0)}$ pontosságát.\n",
    "\n",
    "\n",
    "## Irodalomjegyzék\n",
    "\n",
    "* Press, Teukolsky, Vetterling & Flannery: Numerical Recipes (in C), 3. kiadás, Cambridge University Press, 15.4. fejezet"
   ]
  },
  {
   "cell_type": "markdown",
   "metadata": {},
   "source": [
    "# Feladatok\n",
    "\n",
    "## Alap 1. feladatrész\n",
    "\n",
    "Az alábbi függvény egy véletlenszerű adatsort generál, mérési folyamatot szimulál. Az előre megadott cellákon ezért ne változtassunk!\n",
    "Írjunk egy 'myfit' függvényt, mely az adatokra parabolát illeszt! A program ne beépített függvényillesztő rutint használjon, hanem végezze el a számolást a fent definiált $X_{ij}$ mátrix előállításával, és felírt lineáris egyenletrendszer megoldásával! Az egyenletrendszer megoldására tetszőleges függvénykönyvtár használható. Ábrázoljuk az adatokat és az eredményt! Próbáljuk meg úgy megírni a függvényt, hogy az tetszőleges fokszámú polinom illesztésére is alkalmas legyen!\n",
    "Teljes pontszámért úgy írjuk meg a függvényt, hogy vektorosan kezeljük az adatokat, azaz a tervmátrix egy oszlopát (vagy sorát) egyszerre hozzuk létre, ne két egymásba ágyazott ciklussal. Az ügyesebbek teljesen mellőzni tudják a for ciklust."
   ]
  },
  {
   "cell_type": "code",
   "execution_count": 1,
   "metadata": {},
   "outputs": [],
   "source": [
    "import numpy as np\n",
    "import matplotlib.pyplot as plt\n",
    "\n",
    "def random_data(N, M=0):\n",
    "    a = ( np.random.rand() + 1 ) / 5 * np.random.choice([-1,1])\n",
    "    b = ( np.random.rand() + 1 ) * np.random.choice([-1,1])\n",
    "    c = - 32 * ( np.random.rand() + 1 ) * a\n",
    "    x = np.linspace(-10, 10, N)\n",
    "    sigma = 2 * (np.random.rand(N) + 1)\n",
    "    y = np.random.normal(a * x**2 + b * x + c, sigma)\n",
    "    if M>0:\n",
    "        idx = random.choice(range(N),M,replace=False)                     # ne legyen ismétlés\n",
    "        y[idx] = np.min(y) + np.random.rand(M) * (np.max(y) - np.min(y))  # ne legyenek egyformák\n",
    "    return x, y, sigma"
   ]
  },
  {
   "cell_type": "code",
   "execution_count": 2,
   "metadata": {},
   "outputs": [],
   "source": [
    "x, y, sigma = random_data(101)"
   ]
  },
  {
   "cell_type": "code",
   "execution_count": 3,
   "metadata": {},
   "outputs": [
    {
     "data": {
      "text/plain": [
       "<ErrorbarContainer object of 3 artists>"
      ]
     },
     "execution_count": 3,
     "metadata": {},
     "output_type": "execute_result"
    },
    {
     "data": {
      "image/png": "[encoded data removed]",
      "text/plain": [
       "<Figure size 720x432 with 1 Axes>"
      ]
     },
     "metadata": {
      "needs_background": "light"
     },
     "output_type": "display_data"
    }
   ],
   "source": [
    "# ábra a mérési pontokkal és hibaintervallumokkal\n",
    "plt.figure(figsize=(10,6))\n",
    "plt.errorbar(x,y,yerr=sigma)\n"
   ]
  },
  {
   "cell_type": "code",
   "execution_count": 4,
   "metadata": {},
   "outputs": [
    {
     "data": {
      "text/plain": [
       "array([[ 1.46596168e+01],\n",
       "       [-1.31238543e+00],\n",
       "       [-3.24150871e-01],\n",
       "       [-5.25888808e-04]])"
      ]
     },
     "execution_count": 4,
     "metadata": {},
     "output_type": "execute_result"
    },
    {
     "data": {
      "image/png": "[encoded data removed]",
      "text/plain": [
       "<Figure size 864x432 with 1 Axes>"
      ]
     },
     "metadata": {
      "needs_background": "light"
     },
     "output_type": "display_data"
    }
   ],
   "source": [
    "from tqdm.auto import tqdm\n",
    "from sympy import *\n",
    "def myfit(x,y,sigma,polinom): # hogy akármekkora polinommal menjen, a használót kérem meg adja meg mennyit akar\n",
    "    xek=[]  # egyszer egy lista amibe gyüjtöm a számokat\n",
    "    x2=np.linspace(-10, 10, len(x)) # csinálok egy új listát, hogy rengetegszer le tudjam majd futtatni\n",
    "    b=[]\n",
    "    x3=[]\n",
    "    for i in range(0,polinom):\n",
    "        xek.append((x2**i)) # gyüjtöm a számokat\n",
    "    M=np.array(np.matrix(xek).T) # legyen egy arrayes lista belőle\n",
    "    for j in range(len(x)): #nekem kell az, hogy mindegyik érték egyedi szigmával le legyen osztva\n",
    "        x3.append(M[j]/sigma[j])\n",
    "        b.append(y[j]/sigma[j])\n",
    "    M2=np.matrix(x3)\n",
    "    B=np.matrix(b) # akarok vele \"mátrixszorozni\" de egy \"egy dimenziós mátrix\" az vektor lényegében\n",
    "    M3=M2.T \n",
    "    M4=M3*M2 # ez a bal oldala az egyenletnek\n",
    "    M5=M3*B.T #  ez a jobb fele az egyenletnek\n",
    "    a=np.array(np.linalg.solve(M4,M5))\n",
    "    fx=[] #a listám amibe számolom a megoldást\n",
    "    for h in range(0,len(x)): # minden x értékhez a fgv értéket akarom\n",
    "        fz=0 # egy alapérték\n",
    "        for k in range(0,len(a)): # mennyi polinom kéne létezzen? há mittomén de végigmegyek minden\n",
    "            fz+=a[k]*x[h]**k # összeadogatom \n",
    "        fx.append(fz) # hozzáadom a listámhoz\n",
    "    plt.figure(figsize=(12,6)) # véletlen sem laborról másolt plotolás\n",
    "    plt.plot(x,fx) \n",
    "    plt.scatter(x,fx,marker=\"s\",c=\"darkblue\",label='illesztett polinomom.')\n",
    "    plt.xlabel(\"$x$ értékeim\",fontsize=13)\n",
    "    plt.ylabel(\"$y$ értékeim\",fontsize=13)\n",
    "    plt.scatter(x,y,marker='o',c=\"orange\",label='generált \"adataim\"')\n",
    "    plt.grid()\n",
    "    plt.legend()\n",
    "   # for n in  range(polinom):  szép ha csak ezt futtatom le, de az utolsó részben túl sokszor printelne\n",
    "    #    print(\"az a[\",n,\"]=\",a[n])\n",
    "    return(a) # nem lenne jobb az M4-el visszatérnem, hogy ezzel számoljak a kövi feladatban? de ez szebb...\n",
    "myfit(x,y,sigma,4)\n",
    "    \n",
    "    \n",
    "    \n",
    "    "
   ]
  },
  {
   "cell_type": "code",
   "execution_count": 5,
   "metadata": {},
   "outputs": [],
   "source": [
    "# az illesztést elvégző program helye\n"
   ]
  },
  {
   "cell_type": "code",
   "execution_count": 6,
   "metadata": {},
   "outputs": [
    {
     "data": {
      "text/plain": [
       "array([[14.65718863],\n",
       "       [-1.34443291],\n",
       "       [-0.324021  ]])"
      ]
     },
     "execution_count": 6,
     "metadata": {},
     "output_type": "execute_result"
    },
    {
     "data": {
      "image/png": "[encoded data removed]",
      "text/plain": [
       "<Figure size 864x432 with 1 Axes>"
      ]
     },
     "metadata": {
      "needs_background": "light"
     },
     "output_type": "display_data"
    }
   ],
   "source": [
    "# ábra a másodfokú illesztéssel\n",
    "myfit(x,y,sigma,3)"
   ]
  },
  {
   "cell_type": "markdown",
   "metadata": {},
   "source": [
    "## Alap 2. feladatrész\n",
    "\n",
    "Írjuk függvényt, mely meghatározza az illesztett paraméterek aszimptotikus hibáját és kovarianciáját."
   ]
  },
  {
   "cell_type": "code",
   "execution_count": 7,
   "metadata": {},
   "outputs": [
    {
     "name": "stdout",
     "output_type": "stream",
     "text": [
      "Az a[ 0 ] aszimptotikus hibája: 0.436974233263749\n",
      "Az a[ 1 ] aszimptotikus hibája: 0.118856925051326\n",
      "Az a[ 2 ] aszimptotikus hibája: 0.00942673603588620\n",
      "Az a[ 3 ] aszimptotikus hibája: 0.00178654640969997\n",
      "a kovarianciája :cov( 1 , 1 )= 0.190946480536442\n",
      "a kovarianciája :cov( 1 , 2 )= 0.000534133465239878\n",
      "a kovarianciája :cov( 1 , 3 )= -0.00313524175382423\n",
      "a kovarianciája :cov( 1 , 4 )= -1.47373952739795e-5\n",
      "a kovarianciája :cov( 2 , 1 )= 0.000534133465239878\n",
      "a kovarianciája :cov( 2 , 2 )= 0.0141269686326566\n",
      "a kovarianciája :cov( 2 , 3 )= -3.94445586314758e-5\n",
      "a kovarianciája :cov( 2 , 4 )= -0.000194504037840208\n",
      "a kovarianciája :cov( 3 , 1 )= -0.00313524175382423\n",
      "a kovarianciája :cov( 3 , 2 )= -3.94445586314758e-5\n",
      "a kovarianciája :cov( 3 , 3 )= 8.88633522902755e-5\n",
      "a kovarianciája :cov( 3 , 4 )= 7.88225588712542e-7\n",
      "a kovarianciája :cov( 4 , 1 )= -1.47373952739795e-5\n",
      "a kovarianciája :cov( 4 , 2 )= -0.000194504037840208\n",
      "a kovarianciája :cov( 4 , 3 )= 7.88225588712542e-7\n",
      "a kovarianciája :cov( 4 , 4 )= 3.19174807401185e-6\n"
     ]
    },
    {
     "data": {
      "text/latex": [
       "$\\displaystyle \\left[\\begin{matrix}0.190946480536442 & 0.000534133465239878 & -0.00313524175382423 & -1.47373952739795 \\cdot 10^{-5}\\\\0.000534133465239878 & 0.0141269686326566 & -3.94445586314758 \\cdot 10^{-5} & -0.000194504037840208\\\\-0.00313524175382423 & -3.94445586314758 \\cdot 10^{-5} & 8.88633522902755 \\cdot 10^{-5} & 7.88225588712542 \\cdot 10^{-7}\\\\-1.47373952739795 \\cdot 10^{-5} & -0.000194504037840208 & 7.88225588712542 \\cdot 10^{-7} & 3.19174807401185 \\cdot 10^{-6}\\end{matrix}\\right]$"
      ],
      "text/plain": [
       "Matrix([\n",
       "[   0.190946480536442,  0.000534133465239878, -0.00313524175382423,  -1.47373952739795e-5],\n",
       "[0.000534133465239878,    0.0141269686326566, -3.94445586314758e-5, -0.000194504037840208],\n",
       "[-0.00313524175382423,  -3.94445586314758e-5,  8.88633522902755e-5,   7.88225588712542e-7],\n",
       "[-1.47373952739795e-5, -0.000194504037840208,  7.88225588712542e-7,   3.19174807401185e-6]])"
      ]
     },
     "execution_count": 7,
     "metadata": {},
     "output_type": "execute_result"
    }
   ],
   "source": [
    "# a szórások és aszimptotikus hibák meghatározása\n",
    "def myfit2(x,y,sigma,polinom):\n",
    "    xek=[]  # egyszer egy lista amibe gyüjtöm a számokat\n",
    "    x2=np.linspace(-10, 10, len(x)) # csinálok egy új listát, hogy rengetegszer le tudjam majd futtatni\n",
    "    b=[]\n",
    "    x3=[]\n",
    "    for i in range(0,polinom):\n",
    "        xek.append((x2**i)) # gyüjtöm a számokat\n",
    "    M=np.array(np.matrix(xek).T) # legyen egy arrayes lista belőle\n",
    "    for j in range(len(x)): #nekem kell az, hogy mindegyik érték egyedi szigmával le legyen osztva\n",
    "        x3.append(M[j]/sigma[j])\n",
    "        b.append(y[j]/sigma[j])\n",
    "    M2=np.matrix(x3)\n",
    "    B=np.matrix(b) # akarok vele \"mátrixszorozni\" de egy \"egy dimenziós mátrix\" az vektor lényegében\n",
    "    M3=M2.T \n",
    "    M4=M3*M2 # ez a bal oldala az egyenletnek\n",
    "    M5=M3*B.T #  ez a jobb fele az egyenletnek\n",
    "    C2=M4**(-1)\n",
    "    C=Matrix(C2)\n",
    "    for q in range(polinom):\n",
    "        print(\"Az a[\",q,\"] aszimptotikus hibája:\",sqrt(C[q*polinom+q]))\n",
    "    for e in range(polinom):\n",
    "        for s in range(polinom):\n",
    "            print(\"a kovarianciája :cov(\",e+1,\",\",s+1,\")=\",C[e*polinom+s])\n",
    "    return(C)\n",
    "myfit2(x,y,sigma,4)"
   ]
  },
  {
   "cell_type": "markdown",
   "metadata": {},
   "source": [
    "Az előbbi hibaszámítás akkor is kicsi hibát ad, ha a szükségesnél kisebb fokszámú polinomot illesztünk, pl. a parabola mentén elhelyezkedő adatokra egyenest. Ezt felfoghatjuk úgy, hogy ez a módszer azt ondja meg, mekkokra szórása adódik az illesztett paramétereknek csupán a mérési adatok bizonytalanságából.\n",
    "Viszont...\n",
    "3a Jackknife, b bootstrap\n",
    "4 red. khin^2 (n)\n",
    "szorg.:\n",
    "5 bootstrap konfidencia\n",
    "6 validációs\n",
    "7 többváltozós big nélkül"
   ]
  },
  {
   "cell_type": "markdown",
   "metadata": {},
   "source": [
    "## Teljes 3. feladatrész\n",
    "a) Határozzuk meg az illesztett parabola paramétereinek értékét és a paraméterértékek szórásnégyzetét a jacknife módszer segítségével!\n",
    "Egymás után kiíratva a kovarianciamátrixból számolt és itt kapott eredményeket hasonlítsuk őket össze!\n",
    "\n",
    "b) A bootstrap eljárás segítségével készítsünk 1000-2000 közötti számú új adathalmazt az eredeti adatokból és végezzük el mindegyikre a parabola illesztést!  A kapott illesztési paraméterek eloszlásáról készítsünk hisztogramot és ennek segítségével számítsuk ki a paraméterek várható értékét és szórásnégyzetét!\n",
    "Bővítsük az a) pontbeli összehasonlítást az itt kapott eredményekkel!\n",
    "\n",
    "c) Scatter ploton ábrázoljuk, hogy a boostrap módszer alapján hogyan oszlanak el és mennyire korrelálnak az egyes polinomegyütthatók egymással!"
   ]
  },
  {
   "cell_type": "code",
   "execution_count": 8,
   "metadata": {},
   "outputs": [
    {
     "data": {
      "application/vnd.jupyter.widget-view+json": {
       "model_id": "10ab1104a5ad484e8dee5abfa638a562",
       "version_major": 2,
       "version_minor": 0
      },
      "text/plain": [
       "  0%|          | 0/101 [00:00<?, ?it/s]"
      ]
     },
     "metadata": {},
     "output_type": "display_data"
    },
    {
     "name": "stdout",
     "output_type": "stream",
     "text": [
      "Jacknife megodásom:a [ 0 ]= 14.6570336500668\n",
      "Jacknife megodásom:a [ 1 ]= -1.34443628448101\n",
      "Jacknife megodásom:a [ 2 ]= -0.324017102823120\n",
      "A jacknife szórásnégyzete:a [ 0 ]= 0.194254780605997\n",
      "A jacknife szórásnégyzete:a [ 1 ]= 0.00216562214712695\n",
      "A jacknife szórásnégyzete:a [ 2 ]= 9.43172889150128e-5\n",
      "Az a[ 0 ] aszimptotikus hibája: 0.436896364060365\n",
      "Az a[ 1 ] aszimptotikus hibája: 0.0476860459475241\n",
      "Az a[ 2 ] aszimptotikus hibája: 0.00941640558822145\n",
      "a kovarianciája :cov( 1 , 1 )= 0.190878432929167\n",
      "a kovarianciája :cov( 1 , 2 )= -0.000363958370821985\n",
      "a kovarianciája :cov( 1 , 3 )= -0.00313160224600702\n",
      "a kovarianciája :cov( 2 , 1 )= -0.000363958370821985\n",
      "a kovarianciája :cov( 2 , 2 )= 0.00227395897810938\n",
      "a kovarianciája :cov( 2 , 3 )= 8.58963961301732e-6\n",
      "a kovarianciája :cov( 3 , 1 )= -0.00313160224600702\n",
      "a kovarianciája :cov( 3 , 2 )= 8.58963961301732e-6\n",
      "a kovarianciája :cov( 3 , 3 )= 8.86686942018881e-5\n"
     ]
    },
    {
     "data": {
      "text/latex": [
       "$\\displaystyle \\left[\\begin{matrix}0.190878432929167 & -0.000363958370821985 & -0.00313160224600702\\\\-0.000363958370821985 & 0.00227395897810938 & 8.58963961301732 \\cdot 10^{-6}\\\\-0.00313160224600702 & 8.58963961301732 \\cdot 10^{-6} & 8.86686942018881 \\cdot 10^{-5}\\end{matrix}\\right]$"
      ],
      "text/plain": [
       "Matrix([\n",
       "[    0.190878432929167, -0.000363958370821985, -0.00313160224600702],\n",
       "[-0.000363958370821985,   0.00227395897810938,  8.58963961301732e-6],\n",
       "[ -0.00313160224600702,   8.58963961301732e-6,  8.86686942018881e-5]])"
      ]
     },
     "execution_count": 8,
     "metadata": {},
     "output_type": "execute_result"
    },
    {
     "data": {
      "image/png": "[encoded data removed]",
      "text/plain": [
       "<Figure size 864x432 with 1 Axes>"
      ]
     },
     "metadata": {
      "needs_background": "light"
     },
     "output_type": "display_data"
    }
   ],
   "source": [
    "# jacknife módszer megvalósítása, paraméter értékek és szórásnégyzeteik számolása\n",
    "def myfit3(x,y,sigma,polinom): # hogy akármekkora polinommal menjen, a használót kérem meg adja meg mennyit akar\n",
    "    ajaim=[]\n",
    "    for c in tqdm(range(len(x))):\n",
    "        xek=[]  # egyszer egy lista amibe gyüjtöm a számokat\n",
    "        x2=np.linspace(-10, 10, len(x)) # csinálok egy új listát, hogy rengetegszer le tudjam majd futtatni\n",
    "        b=[]\n",
    "        x3=[]\n",
    "        for i in range(0,polinom):\n",
    "            xek.append((x2**i)) # gyüjtöm a számokat\n",
    "        M=np.array(np.matrix(xek).T) # legyen egy arrayes lista belőle\n",
    "        for j in range(len(x)): #nekem kell az, hogy mindegyik érték egyedi szigmával le legyen osztva\n",
    "            x3.append(M[j]/sigma[j])\n",
    "            b.append(y[j]/sigma[j])\n",
    "        b=np.delete(b,c)\n",
    "        M2=np.matrix(x3)\n",
    "        M22=Matrix(M2)\n",
    "        M23= np.delete(M22, c, 0)\n",
    "        B=np.matrix(b) # akarok vele \"mátrixszorozni\" de egy \"egy dimenziós mátrix\" az vektor lényegében\n",
    "        M3=M23.T \n",
    "        M32=Matrix(M3)\n",
    "        M4=M32*M23 # ez a bal oldala az egyenletnek\n",
    "        M5=M32*B.T #  ez a jobb fele az egyenletnek\n",
    "        a=symbols('a')\n",
    "        a=M4.solve(M5)\n",
    "        ajaim.append(a)\n",
    "    average=[]\n",
    "    ajaim2=Matrix(ajaim)\n",
    "    Sigma2=[]\n",
    "    for v in range(polinom):\n",
    "        e=0\n",
    "        for n in range(len(x)):\n",
    "            e+=ajaim[n][v]/len(x)\n",
    "        print(\"Jacknife megodásom:a [\",v,\"]=\",e)\n",
    "        average.append(e)\n",
    "    N=((len(x)-1)/len(x))\n",
    "    Ak=[]\n",
    "    for z in range(polinom):\n",
    "        Ab=0\n",
    "        for f in range(len(x)):\n",
    "            cica=ajaim[f][z]\n",
    "            Ab+=(cica-average[z])**2\n",
    "        Ab=Ab*N\n",
    "        Ak.append(Ab)\n",
    "    for mittoménmár in range(polinom):\n",
    "        print(\"A jacknife szórásnégyzete:a [\",mittoménmár,\"]=\",Ak[mittoménmár])\n",
    "    return()\n",
    "myfit3(x,y,sigma,3)\n",
    "myfit(x,y,sigma,3)\n",
    "myfit2(x,y,sigma,3)"
   ]
  },
  {
   "cell_type": "code",
   "execution_count": null,
   "metadata": {},
   "outputs": [
    {
     "data": {
      "application/vnd.jupyter.widget-view+json": {
       "model_id": "e1ed34dd683f4071abd5ecb23020f8b2",
       "version_major": 2,
       "version_minor": 0
      },
      "text/plain": [
       "  0%|          | 0/1770 [00:00<?, ?it/s]"
      ]
     },
     "metadata": {},
     "output_type": "display_data"
    }
   ],
   "source": [
    "def myfit4(x,y,sigma,polinom):\n",
    "    N=np.random.randint(1000,2000)\n",
    "    ajaim=[]\n",
    "    for i in tqdm(range(N)):\n",
    "        xuj,yuj,suj=[],[],[]\n",
    "        for j in range(len(x)):\n",
    "            R=np.random.randint(len(x))\n",
    "            xuj.append(x[R])\n",
    "            yuj.append(y[R])\n",
    "            suj.append(sigma[R])\n",
    "        xuj2=np.array(xuj)\n",
    "        xek,b,x3=[],[],[]\n",
    "        for i in range(0,polinom):\n",
    "            xek.append((xuj2**i)) # gyüjtöm a számokat\n",
    "        M=np.array(np.matrix(xek).T) # legyen egy arrayes lista belőle\n",
    "        for j in range(len(x)): #nekem kell az, hogy mindegyik érték egyedi szigmával le legyen osztva\n",
    "            x3.append(M[j]/suj[j])\n",
    "            b.append(y[j]/suj[j])\n",
    "        M2=np.matrix(x3)\n",
    "        M22=Matrix(M2)\n",
    "        B=np.matrix(b) # akarok vele \"mátrixszorozni\" de egy \"egy dimenziós mátrix\" az vektor lényegében\n",
    "        M3=M22.T \n",
    "        M32=Matrix(M3)\n",
    "        M4=M32*M22 # ez a bal oldala az egyenletnek\n",
    "        M5=M32*B.T #  ez a jobb fele az egyenletnek\n",
    "        a=symbols('a')\n",
    "        a=M4.solve(M5)\n",
    "        ajaim.append(a)\n",
    "    ajaim2=np.array(ajaim,dtype=float)\n",
    "    return(ajaim2)\n",
    "sajt=myfit4(x,y,sigma,3)\n",
    "myfit(x,y,sigma,3)"
   ]
  },
  {
   "cell_type": "code",
   "execution_count": null,
   "metadata": {},
   "outputs": [],
   "source": [
    "def expect(x,y):\n",
    "    kukac=[]\n",
    "    for i in range(len(y)):\n",
    "        kukac.append(y[i]/sum(y))\n",
    "    sajtkukac=0\n",
    "    for j in range(0,len(y)):\n",
    "        sajtkukac+=(x[i]*kukac[i])\n",
    "    return sajtkukac"
   ]
  },
  {
   "cell_type": "code",
   "execution_count": null,
   "metadata": {},
   "outputs": [],
   "source": [
    "def szor(x,y):\n",
    "    almakukac=[]\n",
    "    for i in range(len(x)):\n",
    "        almakukac.append((x[i]-y)**2)\n",
    "    alma=sum(almakukac)/len(x)\n",
    "    return (alma)"
   ]
  },
  {
   "cell_type": "code",
   "execution_count": null,
   "metadata": {},
   "outputs": [],
   "source": [
    "a0 = sajt[:,0]\n",
    "y1,x1,patches0=plt.hist(a0,bins=21)\n",
    "print(len(y1),len(x1))\n",
    "ertekem=expect(x1,y1)\n",
    "print(\"a várható értéke az a0-nak:\",ertekem,\"a szórásom meg:\",szor(x1,ertekem))"
   ]
  },
  {
   "cell_type": "markdown",
   "metadata": {},
   "source": [
    "Nemtudom ez miért ilyen hülye mindig, de a többi meg jó"
   ]
  },
  {
   "cell_type": "code",
   "execution_count": null,
   "metadata": {},
   "outputs": [],
   "source": [
    "a1=sajt[:,1]\n",
    "y2,x2,patches0=plt.hist(a1,bins=21)\n",
    "print(len(y1),len(x1))\n",
    "ertekem2=expect(x2,y2)\n",
    "print(\"a várható értéke az a0-nak:\",ertekem2,\"a szórásom meg:\",szor(x2,ertekem2))\n"
   ]
  },
  {
   "cell_type": "code",
   "execution_count": null,
   "metadata": {},
   "outputs": [],
   "source": [
    "a3=sajt[:,2]\n",
    "y3,x3,patches0=plt.hist(a3,bins=21)\n",
    "print(len(y1),len(x1))\n",
    "ertekem3=expect(x3,y3)\n",
    "print(\"a várható értéke az a3-nak:\",ertekem3,\"a szórásom meg:\",szor(x3,ertekem3))"
   ]
  },
  {
   "cell_type": "markdown",
   "metadata": {},
   "source": [
    "a szórásom kisebb(már ahol, de átlagban)"
   ]
  },
  {
   "cell_type": "code",
   "execution_count": null,
   "metadata": {},
   "outputs": [],
   "source": [
    "# scatter plots\n",
    "plt.scatter(a0,a1)\n"
   ]
  },
  {
   "cell_type": "code",
   "execution_count": null,
   "metadata": {},
   "outputs": [],
   "source": [
    "plt.scatter(a0,a3)"
   ]
  },
  {
   "cell_type": "code",
   "execution_count": null,
   "metadata": {},
   "outputs": [],
   "source": [
    "plt.scatter(a1,a3)"
   ]
  },
  {
   "cell_type": "markdown",
   "metadata": {},
   "source": [
    "## Teljes 4. feladatrész\n",
    "\n",
    "A redukált $\\chi^2$ érték segítségével próbáljuk eldönteni, hogy az adataink hanyadfokú polinomot követnek valójában! Számítsuk ki $n=1\\ldots7$ közötti fokszámú polinom illesztésére a redukált $\\chi^2$ értékeket és ábrázoljuk őket  $n$ függvényében! Próbáljuk ennek segítségével leolvasni a tényleges fokszámot!\n",
    "\n",
    "Idemásolva az adatsort generáló utasítást, azt is próbáljuk ki, milyen gyakran következtetnénk $n=2$-re!\n"
   ]
  },
  {
   "cell_type": "code",
   "execution_count": null,
   "metadata": {},
   "outputs": [],
   "source": [
    "# a redukált chi^2 értékét számoló függvény\n",
    "def myfitsok(x,y,sigma,polinom):\n",
    "    a=myfit(x,y,sigma,polinom)\n",
    "    summa=0\n",
    "    for i in range(len(x)):\n",
    "        xjeim=0\n",
    "        for k in range(polinom):\n",
    "            xjeim+=a[k]*x[i]**k\n",
    "        xjeim-=y[i]\n",
    "        summa+=(xjeim**2)/(sigma[i]**2)\n",
    "    v=len(x)-polinom\n",
    "    \n",
    "    return(summa/v)\n",
    "myfitsok(x,y,sigma,4)"
   ]
  },
  {
   "cell_type": "code",
   "execution_count": null,
   "metadata": {},
   "outputs": [],
   "source": [
    "# modell választás próba\n",
    "# nézzük meg chi2r értékét n függvényében\n",
    "n=[1,2,3,4,5,6,7]\n",
    "M=[]\n",
    "for j in range(2,9):\n",
    "    M.append(myfitsok(x,y,sigma,j))\n",
    "print(M.index(min(M))+1)\n",
    "plt.figure(figsize=(12,6)) # véletlen sem laborról másolt plotolás\n",
    "plt.plot(n,M) \n",
    "plt.xlabel(\"fokszámom\",fontsize=13)\n",
    "plt.ylabel(\"redukált $\\chi^2$\",fontsize=13)\n",
    "plt.grid()\n",
    "plt.plot(n,M)\n"
   ]
  },
  {
   "cell_type": "code",
   "execution_count": null,
   "metadata": {},
   "outputs": [],
   "source": [
    "cuccli=[]\n",
    "a2=[]\n",
    "for z in tqdm(range(100)):\n",
    "    x, y, sigma = random_data(101)\n",
    "    M=[]\n",
    "    for j in range(2,9):\n",
    "        M.append(myfitsok(x,y,sigma,j))\n",
    "    cuccli.append(M.index(min(M))+1)\n",
    "for s in tqdm(range(1,8)):\n",
    "    a2.append(cuccli.count(s))"
   ]
  },
  {
   "cell_type": "code",
   "execution_count": null,
   "metadata": {},
   "outputs": [],
   "source": [
    "print(a2)"
   ]
  },
  {
   "cell_type": "markdown",
   "metadata": {},
   "source": [
    "# Tapasztalatok:\n",
    "átlagban 2 a nyerő szám"
   ]
  },
  {
   "cell_type": "markdown",
   "metadata": {},
   "source": [
    "## <font color='green5'>5. Szorgalmi feladatrész</font>\n",
    "Alkalmazzuk a \"Modell választás\" anyagrészben leírt módszert!\n",
    "Az adathalmazból minden második pontot a traning halmazba, a maradékot a validációs halmazba téve számoljuk ki az $n$-edfokú polinom illesztési együtthatókat a training halmazon, majd a kiszámolt illesztési együtthatókkal határozzuk meg a validációs halmazra vonatkozó $\\chi^2$ értéket. Ne normáljunk a redukált $\\chi^2$ értékhez hasonlóan! Ábrázoljuk ezt is $n$ függvényében, és próbáljuk megállapítani a valódi fokszámot! Könnyebben tudunk-e következtetni a fokszámra, mint a 4-es feladatrész esetén?\n",
    "\n",
    "Idemásolva az adatsort generáló utasítást, azt is próbáljuk ki, milyen gyakran lesz a minimum az $n=2$ közelében!"
   ]
  },
  {
   "cell_type": "code",
   "execution_count": null,
   "metadata": {},
   "outputs": [],
   "source": [
    "# a training és validációs halmaz létrehozása és számolások\n"
   ]
  },
  {
   "cell_type": "code",
   "execution_count": null,
   "metadata": {},
   "outputs": [],
   "source": [
    "# Tapasztalatok:\n"
   ]
  },
  {
   "cell_type": "markdown",
   "metadata": {},
   "source": [
    "## <font color='green5'>6. Szorgalmi feladatrész</font>\n",
    "\n",
    "A 3-ik feladatrészben kaptunk egy eloszlást a paraméter vektorra a szintetikus adatsorok segítségével. Az eloszlás elemei szintetikus adatsorokra való illesztéssel kapott $\\mathbf{a}_{(i)}^{(S)}$ paraméter vektorok. Ezek segítségével\n",
    "\n",
    "a) Határozzuk meg a 95\\%-os konfidencia intervallumokat az eredeti adatsorra való illesztésből kapott $\\mathbf{a}_{(0)}$ paraméterekre. Tehát keressük meg minden $k$-ra azt az intervallumot, amelyre igaz, hogy a pontok 2.5\\%-a van rajta kívül pozitív és negatív irányba egyaránt!\n",
    "Ezzel tudjuk becsülni az $a_{(0)k}$ érték alapján a minket érdeklő valódi $a_{{\\rm (true)}k}$ értéket.\n",
    "\n",
    "b) Határozzunk meg a 95%-os konfidencia-tartományt a 3 dimenziós paramétertérben! Ezt a tartományt most az eredeti adatsorral generált $\\chi^2$ függvény segítségével határozzuk meg. Keressük meg tehát azt a $\\chi^2$ határértéket, melyre igaz, hogy az $\\mathbf{a}_{(i)}^{(S)}$ paraméter vektorok 95%-ához tartozik ennél kisebb $\\chi^2$ érték! Ez azt jelenti, hogy minden $\\mathbf{a}_i^{(S)}$-hez kiszámoljuk a $\\chi^2$ értéket, ezeket sorrendezve leolvashatjuk a határértéket. Utána ábrázoljuk a paramétervektorokat az $a_k,a_l$ vetületekben úgy, hogy a hatérték alatti és feletti $\\chi^2$-tel rendelkezők eltérő színűek legyenek. Határozzuk meg azt is, hogy az $a_k$ értékek milyen intervallumába esnek a belső pontok, majd hasonlítsuk össze az így kapott intervallumokat az a)-beliekkel."
   ]
  },
  {
   "cell_type": "code",
   "execution_count": null,
   "metadata": {},
   "outputs": [],
   "source": [
    "# konfidencia intervallum számolás\n"
   ]
  },
  {
   "cell_type": "code",
   "execution_count": null,
   "metadata": {},
   "outputs": [],
   "source": [
    "# konfidencia tartomány számolás\n"
   ]
  },
  {
   "cell_type": "markdown",
   "metadata": {},
   "source": [
    "## <font color='green5'>7. Szorgalmi feladatrész</font>\n",
    "\n",
    "A fiznum2.public direktoriban található **small.dat** fájl olyan adatokat tartalmaz, ahol öt független változó és egy skalár mért érték között van összefüggés. Írjunk függvényt, mely többváltozós polinomokat illeszt az adatokra a lineáris $\\chi^2$ módszer segítségével.\n",
    "A többváltozós polinomok olyan összeg alakban felírt formulák, ahol az összeg minden tagja a változók egész kitevőjű hatványainak szorzata. Egy tag fokszáma a benne szereplő hatványkitevők összege. A többváltozós polinom fokszáma pedig a legnagyobb fokszámú tagjának fokszáma. Például a\n",
    "$$ p(x, y, z) = 3 + 5 x^2 + 4 x y z + 6 y z^3 $$\n",
    "háromváltozós, negyedfokú polinom, mely vegyes tagokat is tartalmaz.\n",
    "\n",
    "Az illesztést kétféleképp próbálhatjuk megírni:\n",
    "\n",
    "a) Feltételezzük, hogy a függvény a független változók külön-külön függvényeinek összegeként közelíthető, ezért kihagyjuk a vegyes tagokat.\n",
    "\n",
    "b) Figyelembe vesszük a vegyes tagokat is, így viszont a fokszám növekedtével gyorsan nő a polinom tagjainak száma.\n",
    "\n",
    "Próbáljuk meg a 2-od és a 3-adfokú illesztést! Utána határozzuk meg az illesztési paraméterek hibáit!\n",
    "Grafikus ellenőrzésképpen ábrázoljuk a függő változó mért értékei függvényében az illesztett értékeket!\n",
    "Vegyük észre, hogy széles sávban beszínezett képet kapunk, és nem látszik, hogy azon belül hogyan változik a pontok sűrűsége! Ezen pl. úgy tudunk javítani, hogy csak minden m-dik pontot ábrázoljuk, megfelelő $m$ bejátszásával!\n",
    "Először saját kis próbafájllal teszteljük a függvényeinket, azután használjuk a következő adatfájlokat:\n",
    "\n",
    "A **small.dat** fájlt  ne másoljuk át a saját kooplexes mappába, hanem olvassuk közvetlenül a megfelelő\n",
    "elérési útat megadva, pl. np.loadtxt(\"/v/courses/fiznum2.public/small.dat\") !\n",
    "\n",
    "A fájlok oszlopai:\n",
    "\n",
    "* 1-5: független változó komponensei\n",
    "* 6: függő változó (mért érték)\n",
    "* 7: mérési hiba"
   ]
  },
  {
   "cell_type": "code",
   "execution_count": null,
   "metadata": {},
   "outputs": [],
   "source": [
    "# többváltozós illesztés\n"
   ]
  }
 ],
 "metadata": {
  "anaconda-cloud": {},
  "kernelspec": {
   "display_name": "Python 3",
   "language": "python",
   "name": "python3"
  },
  "language_info": {
   "codemirror_mode": {
    "name": "ipython",
    "version": 3
   },
   "file_extension": ".py",
   "mimetype": "text/x-python",
   "name": "python",
   "nbconvert_exporter": "python",
   "pygments_lexer": "ipython3",
   "version": "3.8.8"
  }
 },
 "nbformat": 4,
 "nbformat_minor": 2
}
